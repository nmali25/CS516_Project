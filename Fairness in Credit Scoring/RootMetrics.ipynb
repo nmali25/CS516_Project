{
 "cells": [
  {
   "cell_type": "code",
   "execution_count": null,
   "id": "25f6be14-c926-4525-bd90-d814c7677d88",
   "metadata": {},
   "outputs": [],
   "source": [
    "from sklearn.metrics import roc_auc_score\n",
    "from aif360.metrics import ClassificationMetric\n",
    "\n",
    "# AUC metric\n",
    "def compute_auc(y_true, y_pred):\n",
    "    return roc_auc_score(y_true, y_pred)\n",
    "\n",
    "# AIF360 fairness metrics\n",
    "def compute_fairness_metrics(true_dataset, pred_dataset, privileged, unprivileged):\n",
    "    metric = ClassificationMetric(\n",
    "        true_dataset,\n",
    "        pred_dataset,\n",
    "        privileged_groups=[{privileged[0]: privileged[1]}],\n",
    "        unprivileged_groups=[{unprivileged[0]: unprivileged[1]}]\n",
    "    )\n",
    "    return {\n",
    "        'Disparate Impact': metric.disparate_impact(),\n",
    "        'Equal Opportunity Difference': metric.equal_opportunity_difference(),\n",
    "        'Statistical Parity Difference': metric.statistical_parity_difference(),\n",
    "        'Average Odds Difference': metric.average_odds_difference()\n",
    "    }"
   ]
  }
 ],
 "metadata": {
  "kernelspec": {
   "display_name": "Python 3 (ipykernel)",
   "language": "python",
   "name": "python3"
  },
  "language_info": {
   "codemirror_mode": {
    "name": "ipython",
    "version": 3
   },
   "file_extension": ".py",
   "mimetype": "text/x-python",
   "name": "python",
   "nbconvert_exporter": "python",
   "pygments_lexer": "ipython3",
   "version": "3.12.4"
  }
 },
 "nbformat": 4,
 "nbformat_minor": 5
}
