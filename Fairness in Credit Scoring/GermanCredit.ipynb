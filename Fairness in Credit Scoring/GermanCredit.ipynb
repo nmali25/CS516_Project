{
 "cells": [
  {
   "cell_type": "code",
   "execution_count": null,
   "id": "a338942f-adef-4883-8eea-5ee4dfbcfaf3",
   "metadata": {},
   "outputs": [],
   "source": [
    "import pandas as pd\n",
    "from sklearn.model_selection import train_test_split\n",
    "from sklearn.preprocessing import LabelEncoder\n",
    "from models import *\n",
    "from metrics import compute_auc, compute_fairness_metrics\n",
    "from aif360.datasets import BinaryLabelDataset\n",
    "\n",
    "# Load German Credit dataset\n",
    "def load_german():\n",
    "    columns = [...]\n",
    "    df = pd.read_csv(\"german.data\", delim_whitespace=True, header=None, names=columns)\n",
    "    df['label'] = df['credit_class'].map({1: 1, 2: 0})\n",
    "    df['age_binary'] = df['age'].apply(lambda x: 1 if x > 25 else 0)\n",
    "    for col in df.select_dtypes(include='object').columns:\n",
    "        df[col] = LabelEncoder().fit_transform(df[col])\n",
    "    df.drop(columns=['credit_class'], inplace=True)\n",
    "    return df\n",
    "\n",
    "# Preprocess and apply models\n",
    "def run_pipeline():\n",
    "    df = load_german()\n",
    "    X = df.drop(columns=['label'])\n",
    "    y = df['label']\n",
    "    X_train, X_test, y_train, y_test = train_test_split(X, y, stratify=y, test_size=0.3, random_state=42)\n",
    "    model = train_xgboost(X_train, y_train)\n",
    "    y_pred = model.predict(X_test)\n",
    "    print(\"AUC:\", compute_auc(y_test, y_pred))\n",
    "    # Prepare BinaryLabelDataset for fairness\n",
    "    ... # Use AIF360 dataset conversion and compute fairness"
   ]
  }
 ],
 "metadata": {
  "kernelspec": {
   "display_name": "Python 3 (ipykernel)",
   "language": "python",
   "name": "python3"
  },
  "language_info": {
   "codemirror_mode": {
    "name": "ipython",
    "version": 3
   },
   "file_extension": ".py",
   "mimetype": "text/x-python",
   "name": "python",
   "nbconvert_exporter": "python",
   "pygments_lexer": "ipython3",
   "version": "3.12.4"
  }
 },
 "nbformat": 4,
 "nbformat_minor": 5
}
